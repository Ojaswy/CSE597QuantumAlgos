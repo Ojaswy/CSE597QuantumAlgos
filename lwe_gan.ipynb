{
 "cells": [
  {
   "cell_type": "code",
   "execution_count": 1,
   "id": "0878f8f7",
   "metadata": {},
   "outputs": [],
   "source": [
    "import numpy as np\n",
    "import sympy\n",
    "\n",
    "def generate_lwe_data(n=32, num_samples=100000):\n",
    "    # Step 1: Fix a variable q as a prime number between 2^15 and 2^30\n",
    "    q = sympy.randprime(2**15, 2**30)\n",
    "\n",
    "    # Step 2: Fix 'n' as the dimensions and a binary secret 's' as {0,1}^n\n",
    "    s = np.random.randint(2, size=n)\n",
    "\n",
    "    lwe_data = []\n",
    "    for _ in range(num_samples):\n",
    "        # Step 3: Sample 'a' uniformly from Z^n\n",
    "        a = np.random.randint(0, q, size=(n,))\n",
    "        # Step 4: Compute 'b' such that b = a.s mod q to get (A, b) pairs\n",
    "        b = (a.dot(s) + np.random.randint(0, 2)) % q\n",
    "        lwe_data.append((a,b))\n",
    "\n",
    "    return q, s, lwe_data"
   ]
  },
  {
   "cell_type": "code",
   "execution_count": 2,
   "id": "ec31fafd",
   "metadata": {},
   "outputs": [
    {
     "name": "stdout",
     "output_type": "stream",
     "text": [
      "Prime q: 585606479\n",
      "Binary secret s: [1 1 1 0 1 0 1 1 1 0 1 1 1 0 1 1 0 0 1 1 0 0 0 0 0 1 0 1 1 1 0 0]\n",
      "Sample LWE data pairs:\n",
      "A: [ 13042277 444761893 508170355 492064689   1305041   2088726 399027951\n",
      "  54786609 582364421  82394293 244151755 258220703  64140245 458527322\n",
      " 399220203 255644149 366533740 121140517 432151340 342409117  67994919\n",
      " 270340270 556801219 507265651 269394167  69633460 282069124 563534705\n",
      " 174238317  46216398 477678549 320157990], b: 558051643\n",
      "A: [424004595 256693704 220302781 569073958  49453279 218098611 339145157\n",
      "  13099360 389626915 346005492 212070092 427298454  11549799 195497396\n",
      " 443101803 510965920   6422471 320670092 248856370  81815088 526249902\n",
      "  90265857 387863178  52783266 383996843 398158507 461705716 186582232\n",
      "  24814086  63840784   6394381 360192030], b: 6411630\n",
      "A: [445875931 102687284 327314279  38029166 485502092 455407841 134822852\n",
      " 200244314 217504106  60521950 499759887 560239735 547209970 442803617\n",
      " 496279889  12663528 583810068 548954901 508595539 424845939 491803627\n",
      "  84497549 256155880 380777513 242298596 129772920 438551870 128810581\n",
      " 132861806 209920852 415888101 491543306], b: 98731250\n",
      "A: [348710625 498060736 149810281 515364255 134135883 556627026 395953727\n",
      " 583577908  69881781 177942147 315830983 397567985 137692020 358713410\n",
      " 132579928 552060244 200625412 520140500  73478090 121170768 438659745\n",
      "     46995 279592673 349477414 293574009 140748739 478588989 200947100\n",
      " 312317221 379384239  39473749 362413132], b: 63334483\n",
      "A: [205794287 497184507 456773389  69838059 173731942   9229598 505199857\n",
      " 294084221  70754304 204330896 350428985 121231596 542526356 295327739\n",
      " 178862872 132759905 196877221 534630852 434988861  15708370 269676441\n",
      "  65158995 353681006 504051131 230446827 310480898 351907824 484962394\n",
      " 159067434 124102294  27727928 146573182], b: 178068697\n"
     ]
    }
   ],
   "source": [
    "q, s, lwe_data = generate_lwe_data()\n",
    "\n",
    "# Display the generated data\n",
    "print(\"Prime q:\", q)\n",
    "print(\"Binary secret s:\", s)\n",
    "print(\"Sample LWE data pairs:\")\n",
    "for i in range(5):  # Displaying the first 5 pairs for illustration\n",
    "    print(f\"A: {lwe_data[i][0]}, b: {lwe_data[i][1]}\")\n"
   ]
  },
  {
   "cell_type": "code",
   "execution_count": 3,
   "id": "ae86defd",
   "metadata": {},
   "outputs": [],
   "source": [
    "import os\n",
    "os.environ['TF_CPP_MIN_LOG_LEVEL'] = '3'\n",
    "import tensorflow as tf\n",
    "from tensorflow import keras\n",
    "from tensorflow.keras import layers\n",
    "\n",
    "# Function to create the generator model\n",
    "def build_generator(latent_dim, output_dim):\n",
    "    model = keras.Sequential()\n",
    "    model.add(layers.Dense(256, input_dim=latent_dim, activation='relu'))\n",
    "    model.add(layers.Dense(512, activation='relu'))\n",
    "    model.add(layers.Dense(1024, activation='relu'))\n",
    "    model.add(layers.Dense(output_dim, activation='linear'))\n",
    "    return model\n",
    "\n",
    "# Function to create the discriminator model\n",
    "def build_discriminator(input_dim):\n",
    "    model = keras.Sequential()\n",
    "    model.add(layers.Dense(512, input_dim=input_dim, activation='relu'))\n",
    "    model.add(layers.Dropout(0.3))\n",
    "    model.add(layers.Dense(256, activation='relu'))\n",
    "    model.add(layers.Dropout(0.3))\n",
    "    model.add(layers.Dense(1, activation='linear'))\n",
    "    return model\n",
    "'''\n",
    "def build_discriminator(input_dim):\n",
    "    model = keras.Sequential()\n",
    "    model.add(layers.Dense(128, input_dim=input_dim, activation='relu'))\n",
    "    model.add(layers.Dense(1, activation='linear'))\n",
    "    return model\n",
    "\n",
    "def wasserstein_loss(y_true, y_pred):\n",
    "    return tf.reduce_mean(y_true * y_pred)\n",
    "'''\n",
    "\n",
    "# Function to compile the discriminator with Wasserstein loss\n",
    "def compile_discriminator(discriminator):\n",
    "    discriminator.compile(optimizer=keras.optimizers.RMSprop(lr=0.00005), loss='binary_crossentropy')\n",
    "    return discriminator\n",
    "\n",
    "# Function to build the Wasserstein GAN model\n",
    "def build_wasserstein_gan(generator, discriminator):\n",
    "    discriminator.trainable = False\n",
    "    model = keras.Sequential()\n",
    "    model.add(generator)\n",
    "    model.add(discriminator)\n",
    "    model.compile(optimizer=keras.optimizers.RMSprop(lr=0.00005), loss='binary_crossentropy')\n",
    "    return model"
   ]
  },
  {
   "cell_type": "code",
   "execution_count": null,
   "id": "e53594a0",
   "metadata": {
    "scrolled": true
   },
   "outputs": [],
   "source": [
    "# Function to train Wasserstein GAN\n",
    "def train_wasserstein_gan(generator, discriminator, gan, lwe_data, latent_dim, epochs=500, batch_size=64):\n",
    "    for epoch in range(epochs):\n",
    "        # Train discriminator\n",
    "        idx = np.random.randint(0, len(lwe_data), size=batch_size)\n",
    "        real_samples = np.array([lwe_data[i][0] for i in idx])\n",
    "        noise = np.random.randn(batch_size, latent_dim)\n",
    "        fake_samples = generator.predict(noise)\n",
    "\n",
    "        real_labels = np.ones((batch_size, 1))\n",
    "        fake_labels = -np.ones((batch_size, 1))\n",
    "\n",
    "        d_loss_real = discriminator.train_on_batch(real_samples, real_labels)\n",
    "        d_loss_fake = discriminator.train_on_batch(fake_samples, fake_labels)\n",
    "        d_loss = 0.5 * np.add(d_loss_real, d_loss_fake)\n",
    "\n",
    "        # Train generator\n",
    "        noise = np.random.randn(batch_size, latent_dim)\n",
    "        valid_labels = np.ones((batch_size, 1))\n",
    "        g_loss = gan.train_on_batch(noise, valid_labels)\n",
    "\n",
    "        # Print progress\n",
    "        if epoch % 100 == 0:\n",
    "            print(f\"Epoch {epoch}, D Loss: {d_loss}, G Loss: {g_loss}\")"
   ]
  },
  {
   "cell_type": "code",
   "execution_count": null,
   "id": "f2b49d3c",
   "metadata": {
    "scrolled": true
   },
   "outputs": [],
   "source": [
    "if __name__ == \"__main__\":\n",
    "    latent_dim = 100\n",
    "    n = 64\n",
    "    output_dim = 64\n",
    "\n",
    "    # Generate LWE data\n",
    "    q, _, lwe_data = generate_lwe_data(n, num_samples=100000)\n",
    "\n",
    "    # Build and compile models\n",
    "    generator = build_generator(latent_dim, output_dim)\n",
    "    discriminator = build_discriminator(input_dim=n)\n",
    "    discriminator = compile_discriminator(discriminator)\n",
    "    gan = build_wasserstein_gan(generator, discriminator)\n",
    "\n",
    "    # Train Wasserstein GAN\n",
    "    train_wasserstein_gan(generator, discriminator, gan, lwe_data, latent_dim)"
   ]
  },
  {
   "cell_type": "code",
   "execution_count": null,
   "id": "595abb2a",
   "metadata": {},
   "outputs": [],
   "source": [
    "generated_samples = generator.predict(np.random.rand(10, latent_dim))\n",
    "print(\"Generated Samples:\")\n",
    "print(generated_samples)"
   ]
  }
 ],
 "metadata": {
  "kernelspec": {
   "display_name": "Python 3 (ipykernel)",
   "language": "python",
   "name": "python3"
  },
  "language_info": {
   "codemirror_mode": {
    "name": "ipython",
    "version": 3
   },
   "file_extension": ".py",
   "mimetype": "text/x-python",
   "name": "python",
   "nbconvert_exporter": "python",
   "pygments_lexer": "ipython3",
   "version": "3.10.9"
  }
 },
 "nbformat": 4,
 "nbformat_minor": 5
}
