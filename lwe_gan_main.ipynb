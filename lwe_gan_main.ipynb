{
 "cells": [
  {
   "cell_type": "code",
   "execution_count": 4,
   "id": "08049016",
   "metadata": {},
   "outputs": [],
   "source": [
    "import numpy as np\n",
    "import tensorflow as tf\n",
    "from tensorflow.keras import layers, models\n",
    "import sympy"
   ]
  },
  {
   "cell_type": "code",
   "execution_count": 5,
   "id": "46d9e0c5",
   "metadata": {},
   "outputs": [],
   "source": [
    "def generate_lwe_data_batch(n, q, num_samples=32):\n",
    "    s = np.random.randint(2, size=n)\n",
    "    a = np.random.randint(0, q, size=(num_samples, n))\n",
    "    b = (a.dot(s) + np.random.randint(0, 2, size=num_samples)) % q\n",
    "    return a, b\n",
    "\n",
    "def build_generator(n, latent_dim, q):\n",
    "    model = models.Sequential()\n",
    "    model.add(layers.InputLayer(input_shape=(latent_dim,)))\n",
    "    model.add(layers.Dense(64, activation='relu'))\n",
    "    model.add(layers.Dense(32, activation='relu'))\n",
    "    model.add(layers.Dense(n, activation='linear'))\n",
    "    return model\n",
    "\n",
    "def build_discriminator(n):\n",
    "    model = models.Sequential()\n",
    "    model.add(layers.InputLayer(input_shape=(n,)))\n",
    "    model.add(layers.Dense(64, activation='relu'))\n",
    "    model.add(layers.Dense(32, activation='relu'))\n",
    "    model.add(layers.Dense(1, activation='sigmoid'))\n",
    "    return model\n",
    "\n",
    "def build_gan(generator, discriminator):\n",
    "    discriminator.trainable = False\n",
    "    model = models.Sequential()\n",
    "    model.add(generator)\n",
    "    model.add(discriminator)\n",
    "    return model\n",
    "\n",
    "def compile_models(generator, discriminator, gan):\n",
    "    discriminator.compile(optimizer='adam', loss='binary_crossentropy', metrics=['accuracy'])\n",
    "    gan.compile(optimizer='adam', loss='binary_crossentropy')\n",
    "\n",
    "def train_gan(generator, discriminator, gan, n, q, latent_dim=10, epochs=10000, batch_size=32):\n",
    "    compile_models(generator, discriminator, gan)\n",
    "\n",
    "    for epoch in range(epochs):\n",
    "        real_data = generate_lwe_data_batch(n, q, batch_size)\n",
    "        fake_noise = np.random.rand(batch_size, latent_dim)\n",
    "        fake_data = generator.predict(fake_noise)\n",
    "        real_labels = np.ones((batch_size, 1))\n",
    "        fake_labels = np.zeros((batch_size, 1))\n",
    "\n",
    "        d_loss_real = discriminator.train_on_batch(real_data[0], real_labels)\n",
    "        d_loss_fake = discriminator.train_on_batch(fake_data, fake_labels)\n",
    "\n",
    "        d_loss = 0.5 * np.add(d_loss_real, d_loss_fake)\n",
    "\n",
    "        valid_noise = np.random.rand(batch_size, latent_dim)\n",
    "        valid_labels = np.ones((batch_size, 1))\n",
    "\n",
    "        g_loss = gan.train_on_batch(valid_noise, valid_labels)\n",
    "\n",
    "        if epoch % 100 == 0:\n",
    "            print(f\"Epoch {epoch}, D Loss: {d_loss[0]}, G Loss: {g_loss}\")"
   ]
  },
  {
   "cell_type": "code",
   "execution_count": null,
   "id": "a9175040",
   "metadata": {
    "scrolled": true
   },
   "outputs": [],
   "source": [
    "np.random.seed(42)\n",
    "tf.random.set_seed(42)\n",
    "\n",
    "# Define the LWE parameters\n",
    "n = 32\n",
    "q = sympy.randprime(2**15, 2**30)  # Replace this with the desired prime number\n",
    "latent_dim = 32  # Adjust the latent dimension as needed\n",
    "\n",
    "# Build and compile the generator, discriminator, and GAN\n",
    "generator = build_generator(n, latent_dim, q)\n",
    "discriminator = build_discriminator(n)\n",
    "gan = build_gan(generator, discriminator)\n",
    "\n",
    "# Train the GAN\n",
    "train_gan(generator, discriminator, gan, n, q, latent_dim=latent_dim, epochs=10000, batch_size=32)"
   ]
  },
  {
   "cell_type": "code",
   "execution_count": null,
   "id": "8edf69e7",
   "metadata": {},
   "outputs": [],
   "source": [
    "# Generate fake LWE samples using the trained generator\n",
    "num_fake_samples = 10\n",
    "fake_samples = generator.predict(np.random.rand(num_fake_samples, latent_dim))\n",
    "\n",
    "# Test the discriminator on real and fake samples\n",
    "real_samples = generate_lwe_data_batch(n, q, num_samples=num_fake_samples)\n",
    "real_accuracy = discriminator.evaluate(real_samples[0], np.ones((num_fake_samples, 1)), verbose=0)[1]\n",
    "fake_accuracy = discriminator.evaluate(fake_samples, np.zeros((num_fake_samples, 1)), verbose=0)[1]\n",
    "\n",
    "print(f\"Discriminator Accuracy on Real Samples: {real_accuracy}\")\n",
    "print(f\"Discriminator Accuracy on Fake Samples: {fake_accuracy}\")"
   ]
  }
 ],
 "metadata": {
  "kernelspec": {
   "display_name": "Python 3 (ipykernel)",
   "language": "python",
   "name": "python3"
  },
  "language_info": {
   "codemirror_mode": {
    "name": "ipython",
    "version": 3
   },
   "file_extension": ".py",
   "mimetype": "text/x-python",
   "name": "python",
   "nbconvert_exporter": "python",
   "pygments_lexer": "ipython3",
   "version": "3.10.9"
  }
 },
 "nbformat": 4,
 "nbformat_minor": 5
}
